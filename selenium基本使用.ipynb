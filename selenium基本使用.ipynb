{
 "cells": [
  {
   "cell_type": "markdown",
   "metadata": {},
   "source": [
    "Selenium所有的api文档：http://selenium-python.readthedocs.io/api.html#module-selenium.webdriver.common.action_chains\n"
   ]
  },
  {
   "cell_type": "code",
   "execution_count": null,
   "metadata": {},
   "outputs": [],
   "source": [
    "#弹窗切换\n",
    "time.sleep(1)\n",
    "handles = driver.window_handles\n",
    "\n",
    "for handle in handles:# 切换窗口（切换到搜狗）\n",
    "if handle != driver.current_window_handle:\n",
    "print 'switch to second window',handle\n",
    "driver.close() # 关闭第一个窗口\n",
    "driver.switch_to.window(handle) #切换到第二个窗口"
   ]
  },
  {
   "cell_type": "code",
   "execution_count": null,
   "metadata": {},
   "outputs": [],
   "source": []
  },
  {
   "cell_type": "markdown",
   "metadata": {},
   "source": [
    "# 报错信息\n",
    "\n",
    "现象：selenium使用chromedriver驱动chrome自动化报错unknown error: Runtime.executionContextCreated has invalid ‘context’: {“auxData”:{“frameId”:”11740.1”,”isDefault”:true},”id”:1,”name”:”“,”origin”:”://”} \n",
    "(Session info: chrome=54.0.2840.71) \n",
    "(Driver info: chromedriver=2.9.248307,platform=Linux"
   ]
  },
  {
   "cell_type": "code",
   "execution_count": 1,
   "metadata": {},
   "outputs": [],
   "source": [
    "#谷歌开发脚本，注意版本\n",
    "#chrome://settings/help 查看版本\n",
    "#http://chromedriver.storage.googleapis.com/index.html\n",
    "#浏览器C:\\Users\\Administrator\\AppData\\Local\\Google\\Chrome\\Application\n",
    "#python \n",
    "#环境变量"
   ]
  },
  {
   "cell_type": "code",
   "execution_count": null,
   "metadata": {},
   "outputs": [],
   "source": [
    "#基本调用\n",
    "from selenium import webdriver\n",
    "browser = webdriver.Chrome()"
   ]
  },
  {
   "cell_type": "code",
   "execution_count": null,
   "metadata": {},
   "outputs": [],
   "source": [
    "#访问网页\n",
    "#from selenium import webdriver#导入库\n",
    "#browser = webdriver.Chrome()#声明浏览器\n",
    "url = 'https:www.baidu.com'\n",
    "browser.get(url)#打开浏览器预设网址\n",
    "#print(browser.page_source)#打印网页源代码\n",
    "#browser.close()#关闭浏览器"
   ]
  },
  {
   "cell_type": "markdown",
   "metadata": {},
   "source": [
    "# 查找元素"
   ]
  },
  {
   "cell_type": "markdown",
   "metadata": {},
   "source": [
    "#### 单元素查找"
   ]
  },
  {
   "cell_type": "code",
   "execution_count": null,
   "metadata": {},
   "outputs": [],
   "source": [
    "\n",
    "#按id查找，按css选择器查找  结果相同\n",
    "#其中css选择器id查找需要加#\n",
    "\n",
    "#from selenium import webdriver#导入库\n",
    "#browser = webdriver.Chrome()#声明浏览器\n",
    "#url = 'https:www.taobao.com'\n",
    "#browser.get(url)#打开浏览器预设网址\n",
    "input_first = browser.find_element_by_id('q')\n",
    "input_two = browser.find_element_by_css_selector('#q')\n",
    "#print(input_first)\n",
    "#print(input_two)\n"
   ]
  },
  {
   "cell_type": "code",
   "execution_count": null,
   "metadata": {},
   "outputs": [],
   "source": [
    "#这里列举一下常用的查找元素方法：\n",
    "\n",
    "find_element_by_name\n",
    "find_element_by_id\n",
    "find_element_by_xpath\n",
    "find_element_by_link_text\n",
    "find_element_by_partial_link_text\n",
    "find_element_by_tag_name\n",
    "find_element_by_class_name\n",
    "find_element_by_css_selector"
   ]
  },
  {
   "cell_type": "code",
   "execution_count": null,
   "metadata": {},
   "outputs": [],
   "source": [
    "#下面这种方式是比较通用的一种方式：这里需要记住By模块所以需要导入\n",
    "#from selenium.webdriver.common.by import By\n",
    "\n",
    "from selenium import webdriver\n",
    "from selenium.webdriver.common.by import By\n",
    "\n",
    "browser = webdriver.Chrome()\n",
    "url = 'https://www.taobao.com'\n",
    "browser.get(url)\n",
    "input_1 = browser.find_element(By.ID, 'q')\n",
    "print(input_1)"
   ]
  },
  {
   "cell_type": "markdown",
   "metadata": {},
   "source": [
    "#### 多元素查找"
   ]
  },
  {
   "cell_type": "code",
   "execution_count": null,
   "metadata": {},
   "outputs": [],
   "source": [
    "#其实多个元素和单个元素的区别，举个例子：   \n",
    "#find_elements,单个元素是find_element,其他使用上没什么区别，通过其中的一个例子演示：\n",
    "\n",
    "#from selenium import webdriver\n",
    "\n",
    "#browser = webdriver.Chrome()\n",
    "#url = 'https://www.taobao.com'\n",
    "#browser.get(url)\n",
    "input = browser.find_elements_by_css_selector('.service-bd li')\n",
    "#print(input)\n",
    "#browser.close()\n",
    "\n"
   ]
  },
  {
   "cell_type": "code",
   "execution_count": null,
   "metadata": {},
   "outputs": [],
   "source": [
    "#当然上面的方式也是可以通过导入\n",
    "#from selenium.webdriver.common.by import By 这种方式实现\n",
    "\n",
    "\n",
    "lis = browser.find_elements(By.CSS_SELECTOR,'.service-bd li')\n",
    "#同样的在单个元素中查找的方法在多个元素查找中同样存在：\n",
    "find_elements_by_name\n",
    "find_elements_by_id\n",
    "find_elements_by_xpath\n",
    "find_elements_by_link_text\n",
    "find_elements_by_partial_link_text\n",
    "find_elements_by_tag_name\n",
    "find_elements_by_class_name\n",
    "find_elements_by_css_selector\n"
   ]
  },
  {
   "cell_type": "markdown",
   "metadata": {},
   "source": [
    "#### 元素交互操作"
   ]
  },
  {
   "cell_type": "code",
   "execution_count": null,
   "metadata": {},
   "outputs": [],
   "source": [
    "#向css 发送元素值 实现输入文字，点击按钮操作\n",
    "from selenium import webdriver\n",
    "import time\n",
    "browser = webdriver.Chrome()\n",
    "browser.get(url='https://www.baidu.com')\n",
    "time.sleep(2)\n",
    "input = browser.find_element_by_css_selector('#kw')\n",
    "input.send_keys('韩国')\n",
    "time.sleep(2)\n",
    "input.clear()\n",
    "input.send_keys('朝鲜')\n",
    "button = browser.find_element_by_css_selector('#su')\n",
    "button.click()\n",
    "time.sleep(10)\n",
    "browser.close()"
   ]
  },
  {
   "cell_type": "markdown",
   "metadata": {},
   "source": [
    "#### 交互动作\n",
    "将动作附加到动作链中串行执行"
   ]
  },
  {
   "cell_type": "code",
   "execution_count": null,
   "metadata": {},
   "outputs": [],
   "source": [
    "from selenium import webdriver\n",
    "from selenium.webdriver import ActionChains\n",
    "\n",
    "browser = webdriver.Chrome()\n",
    "\n",
    "url = \"http://www.runoob.com/try/try.php?filename=jqueryui-api-droppable\"\n",
    "browser.get(url)\n",
    "browser.switch_to.frame('iframeResult')\n",
    "source = browser.find_element_by_css_selector('#draggable')\n",
    "target = browser.find_element_by_css_selector('#droppable')\n",
    "\n",
    "actions = ActionChains(browser) #建立动作链\n",
    "actions.drag_and_drop(source, target) #向动作链写入，实现拖拽动作\n",
    "actions.perform()"
   ]
  },
  {
   "cell_type": "markdown",
   "metadata": {},
   "source": [
    "#### 执行JavaScript"
   ]
  },
  {
   "cell_type": "code",
   "execution_count": null,
   "metadata": {},
   "outputs": [],
   "source": [
    "#下面的例子是通过登录知乎然后通过js翻到页面底部，并弹框提示"
   ]
  },
  {
   "cell_type": "code",
   "execution_count": null,
   "metadata": {},
   "outputs": [],
   "source": [
    "from selenium import webdriver\n",
    "browser = webdriver.Chrome()\n",
    "browser.get(\"http://www.zhihu.com/explore\")\n",
    "browser.execute_script('window.scrollTo(0,document.body.scrollHeight)')\n",
    "browser.execute_script('alert(\"To Bottom\")')"
   ]
  },
  {
   "cell_type": "markdown",
   "metadata": {},
   "source": [
    "#### 获取元素属性"
   ]
  },
  {
   "cell_type": "code",
   "execution_count": null,
   "metadata": {},
   "outputs": [],
   "source": [
    "#同样的，有两种查询方式\n",
    "get_attribute('class') "
   ]
  },
  {
   "cell_type": "code",
   "execution_count": null,
   "metadata": {},
   "outputs": [],
   "source": [
    "#from selenium import webdriver\n",
    "#import time\n",
    "#browser = webdriver.Chrome()\n",
    "#browser.get(\"http://www.zhihu.com/explore\")\n",
    "#logo = browser.find_element_by_css_selector('.zu-top-link-logo')\n",
    "#print(logo)\n",
    "print(logo.get_attribute('class'))# 查询元素id\n",
    "print(logo.get_attribute('id'))# 查询元素id\n",
    "#time.sleep(2)\n",
    "#browser.quit()"
   ]
  },
  {
   "cell_type": "markdown",
   "metadata": {},
   "source": [
    "#### 获取文本值"
   ]
  },
  {
   "cell_type": "code",
   "execution_count": null,
   "metadata": {},
   "outputs": [],
   "source": [
    "from selenium import webdriver\n",
    "browser = webdriver.Chrome()\n",
    "browser.get(\"http://www.zhihu.com/explore\")\n",
    "logo = browser.find_element_by_css_selector('.zu-top-link-logo')\n",
    "print(logo)\n",
    "print(logo.text) #获得文本属性"
   ]
  },
  {
   "cell_type": "markdown",
   "metadata": {},
   "source": [
    "获取ID，位置，标签名   \n",
    "id   \n",
    "location   \n",
    "tag_name   \n",
    "size   "
   ]
  },
  {
   "cell_type": "code",
   "execution_count": null,
   "metadata": {},
   "outputs": [],
   "source": [
    "from selenium import webdriver\n",
    "\n",
    "browser = webdriver.Chrome()\n",
    "url = 'https://www.zhihu.com/explore'\n",
    "browser.get(url)\n",
    "input = browser.find_element_by_css_selector('.zu-top-add-question')\n",
    "print(input.id)\n",
    "print(input.location)\n",
    "print(input.tag_name)\n",
    "print(input.size)"
   ]
  },
  {
   "cell_type": "markdown",
   "metadata": {},
   "source": [
    "#### 上传文件"
   ]
  },
  {
   "cell_type": "code",
   "execution_count": null,
   "metadata": {},
   "outputs": [],
   "source": [
    "HTML\n",
    "\n",
    "<input type=\"file\" id=\"uploadhere\" />"
   ]
  },
  {
   "cell_type": "code",
   "execution_count": null,
   "metadata": {},
   "outputs": [],
   "source": [
    "硒代码\n",
    "\n",
    "IWebElement element = driver.FindElement(By.Id(\"uploadhere\"));\n",
    "element.SendKeys(\"C:\\\\Some_Folder\\\\MyFile.txt\");"
   ]
  },
  {
   "cell_type": "markdown",
   "metadata": {},
   "source": [
    "## css选择器定位"
   ]
  },
  {
   "cell_type": "markdown",
   "metadata": {},
   "source": [
    "#### 通过id\n",
    "#### 通过class"
   ]
  },
  {
   "cell_type": "code",
   "execution_count": null,
   "metadata": {},
   "outputs": [],
   "source": [
    "driver.find_element_by_css_selector(\"#kw\")\n",
    "driver.find_element_by_css_selector(\".s_ipt\")"
   ]
  },
  {
   "cell_type": "markdown",
   "metadata": {},
   "source": [
    "### css组合定位"
   ]
  },
  {
   "cell_type": "markdown",
   "metadata": {},
   "source": [
    "##### 父子关系的书写模式form.fm>span"
   ]
  },
  {
   "cell_type": "code",
   "execution_count": null,
   "metadata": {},
   "outputs": [],
   "source": [
    "driver.find_element_by_css_selector(\"form.fm>span>input.s_ipt\")"
   ]
  },
  {
   "cell_type": "code",
   "execution_count": null,
   "metadata": {},
   "outputs": [],
   "source": [
    "driver.find_element_by_css_selector(\"form.fm>span>input#kw\")#'.'为class '#'为id"
   ]
  },
  {
   "cell_type": "markdown",
   "metadata": {},
   "source": [
    "#### 定位list 取某一个\n",
    "#### '.mnav'为'.' + class,\n",
    "#### :nth-child(1) 为选取列表的第一个，是列表的默认属性"
   ]
  },
  {
   "cell_type": "code",
   "execution_count": null,
   "metadata": {},
   "outputs": [],
   "source": [
    "driver.find_element_by_css_selector(\".mnav:nth-child(1)\")"
   ]
  },
  {
   "cell_type": "markdown",
   "metadata": {},
   "source": [
    "#### CSS 逻辑运算，多条件组合定位"
   ]
  },
  {
   "cell_type": "code",
   "execution_count": null,
   "metadata": {},
   "outputs": [],
   "source": [
    "driver.find_element_by_css_selector(\"[type='text'][name='wd']\")"
   ]
  },
  {
   "cell_type": "markdown",
   "metadata": {},
   "source": [
    "### 设置下载位置"
   ]
  },
  {
   "cell_type": "markdown",
   "metadata": {},
   "source": [
    "Chrome浏览器类似，设置其options：\n",
    "\n",
    "download.default_directory：设置下载路径\n",
    "profile.default_content_settings.popups：设置为 0 禁止弹出窗口"
   ]
  },
  {
   "cell_type": "code",
   "execution_count": null,
   "metadata": {},
   "outputs": [],
   "source": [
    "options = webdriver.ChromeOptions()\n",
    "prefs = {'profile.default_content_settings.popups': 0, 'download.default_directory': 'd:\\\\'}\n",
    "options.add_experimental_option('prefs', prefs)\n",
    "driver = webdriver.Chrome(chrome_options=options)\n",
    "driver.maximize_window()<br><br>"
   ]
  },
  {
   "cell_type": "markdown",
   "metadata": {},
   "source": [
    "#### 查找下载的文件"
   ]
  },
  {
   "cell_type": "code",
   "execution_count": null,
   "metadata": {},
   "outputs": [],
   "source": [
    "import os\n",
    "a = os.listdir(\"d:\")\n",
    "for i in a:\n",
    "   print(i)"
   ]
  },
  {
   "cell_type": "markdown",
   "metadata": {},
   "source": [
    "#### iframe 操作"
   ]
  },
  {
   "cell_type": "code",
   "execution_count": null,
   "metadata": {},
   "outputs": [],
   "source": [
    "iframe = browser.find_elements_by_css_selector('iframe')\n",
    "browser.switch_to_frame(iframe)"
   ]
  },
  {
   "cell_type": "markdown",
   "metadata": {},
   "source": [
    "+ 定位到当前聚焦的元素上    \n",
    "  driver.switch_to_active_element()        \n",
    "  driver.switch_to.active_element()       \n",
    "+ 切换到alert弹窗    \n",
    "  driver.switch_to_alert()    \n",
    "  driver.switch_to.alert()          \n",
    "+ 切换到主页面    \n",
    "  driver.switch_to_default_content()    \n",
    "  driver.switch_to.default_content()           \n",
    "+ 通过id、name、element(定位的某个元素)、索引来切换到某个frame       \n",
    "  driver.switch_to_frame(frame_reference)       \n",
    "  driver.switch_to.frame(frame_reference)     "
   ]
  },
  {
   "cell_type": "markdown",
   "metadata": {},
   "source": [
    "selenium 不打开浏览器窗口模拟浏览器\n",
    "\n",
    "安装 xvfb\n",
    "xvfb: Xvfb is an X server that can run on machines with no display hardware and no physical input devices. It emulates a dumb framebuffer using virtual memory.\n",
    "\n",
    "sudo apt install xvfb\n",
    "2 . 安装 pyvirtualdisplay\n",
    "\n",
    "pyvirtualdisplay: pyvirtualdisplay is a python wrapper for Xvfb, Xephyr and Xvnc\n",
    "sudo pip install pyvirtualdisplay\n",
    "3 . 安装 chrome 浏览器\n",
    "\n",
    "下载安装即可\n",
    "4 . 安装 chromedriver\n",
    "\n",
    "chromedriver: ChromeDriver is a separate executable that WebDriver uses to control Chrome. It is maintained by the Chromium team with help from WebDriver contributors. If you are unfamiliar with WebDriver, you should check out their own Getting Started page.\n",
    "下载地址：chromedriver\n",
    "\n",
    "5 . 示例 test1\n",
    "\n",
    "import time\n",
    "from pyvirtualdisplay import Display\n",
    "from selenium import webdriver\n",
    "\n",
    "url = \"http://www.baidu.com\"\n",
    "with Display(backend=\"xvfb\", size=(1440, 900)):\n",
    "    driver = webdriver.Chrome()\n",
    "    driver.maximize_window()\n",
    "    driver.get(url)\n",
    "    driver.get_screenshot_as_file(\"test.png\")\n",
    "    time.sleep(3)\n",
    "    driver.quit()"
   ]
  },
  {
   "cell_type": "code",
   "execution_count": null,
   "metadata": {},
   "outputs": [],
   "source": []
  }
 ],
 "metadata": {
  "kernelspec": {
   "display_name": "Python 3",
   "language": "python",
   "name": "python3"
  },
  "language_info": {
   "codemirror_mode": {
    "name": "ipython",
    "version": 3
   },
   "file_extension": ".py",
   "mimetype": "text/x-python",
   "name": "python",
   "nbconvert_exporter": "python",
   "pygments_lexer": "ipython3",
   "version": "3.7.1"
  }
 },
 "nbformat": 4,
 "nbformat_minor": 4
}
